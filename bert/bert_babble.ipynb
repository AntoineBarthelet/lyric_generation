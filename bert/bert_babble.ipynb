{
 "cells": [
  {
   "cell_type": "code",
   "execution_count": 1,
   "metadata": {
    "colab": {
     "base_uri": "https://localhost:8080/",
     "height": 425
    },
    "colab_type": "code",
    "id": "6jhTd38PTeJL",
    "outputId": "2170f4d8-d68b-4f12-a384-c3c8e1a18862",
    "scrolled": true
   },
   "outputs": [],
   "source": [
    "# !pip install pytorch_pretrained_bert"
   ]
  },
  {
   "cell_type": "code",
   "execution_count": 2,
   "metadata": {
    "colab": {
     "base_uri": "https://localhost:8080/",
     "height": 35
    },
    "colab_type": "code",
    "id": "S2W-F7YrTgK-",
    "outputId": "8bba94bf-cc78-426b-fd4c-c4ea12c2b119"
   },
   "outputs": [],
   "source": [
    "import numpy as np\n",
    "import torch\n",
    "from pytorch_pretrained_bert import BertTokenizer, BertModel, BertForMaskedLM"
   ]
  },
  {
   "cell_type": "code",
   "execution_count": 3,
   "metadata": {},
   "outputs": [],
   "source": [
    "from transformers import AutoModelWithLMHead"
   ]
  },
  {
   "cell_type": "code",
   "execution_count": 4,
   "metadata": {
    "colab": {
     "base_uri": "https://localhost:8080/",
     "height": 52
    },
    "colab_type": "code",
    "id": "a6BpUNlBTjJo",
    "outputId": "2e2c4991-b1b8-4a1f-a7d8-f4de810c59e9"
   },
   "outputs": [],
   "source": [
    "# Load pre-trained model (weights)\n",
    "\n",
    "# If you just want to produce phrases with a base case use the following as your model_version\n",
    "model_version = 'bert-base-uncased'\n",
    "\n",
    "# Else, provide a path to a fine-tuned model, which includes the following files:\n",
    "# pytorch_model.bin\n",
    "# config.json\n",
    "# vocab.txt\n",
    "# special_tokens_map.txt\n",
    "# tokenizer_config.txt\n",
    "# training_args.bin\n",
    "# instructions to fine tune are in the *insert_path_here*\n",
    "model_name = \"\"\n",
    "path_to_finetuned = \"..\\\\fine_tune_model\\\\model_name\\\\\"  # double \\\\ is for windows, remove one for each in mac.\n",
    "model = BertForMaskedLM.from_pretrained(path_to_finetuned)\n",
    "model.eval()\n",
    "\n",
    "# use CUDA if available. should be mentioned in readme for version\n",
    "cuda = torch.cuda.is_available()\n",
    "if cuda:\n",
    "    model = model.cuda()\n",
    "\n",
    "# Load pre-trained model tokenizer (vocabulary)\n",
    "tokenizer = BertTokenizer.from_pretrained(path_to_finetuned, do_lower_case=True)\n",
    "\n",
    "def tokenize_batch(batch):\n",
    "    return [tokenizer.convert_tokens_to_ids(sent) for sent in batch]\n",
    "\n",
    "def untokenize_batch(batch):\n",
    "    return [tokenizer.convert_ids_to_tokens(sent) for sent in batch]\n",
    "\n",
    "def detokenize(sent):\n",
    "    \"\"\" Roughly detokenizes (mainly undoes wordpiece) \"\"\"\n",
    "    new_sent = []\n",
    "    for i, tok in enumerate(sent):\n",
    "        if tok.startswith(\"##\"):\n",
    "            new_sent[len(new_sent) - 1] = new_sent[len(new_sent) - 1] + tok[2:]\n",
    "        else:\n",
    "            new_sent.append(tok)\n",
    "    return new_sent\n",
    "\n",
    "CLS = '[CLS]'\n",
    "SEP = '[SEP]'\n",
    "MASK = '[MASK]'\n",
    "mask_id = tokenizer.convert_tokens_to_ids([MASK])[0]\n",
    "sep_id = tokenizer.convert_tokens_to_ids([SEP])[0]\n",
    "cls_id = tokenizer.convert_tokens_to_ids([CLS])[0]"
   ]
  },
  {
   "cell_type": "code",
   "execution_count": 5,
   "metadata": {
    "colab": {},
    "colab_type": "code",
    "id": "9TPa6BsRTulK"
   },
   "outputs": [],
   "source": [
    "def generate_step(out, gen_idx, temperature=None, top_k=0, sample=False, return_list=True):\n",
    "    \"\"\" Generate a word from from out[gen_idx]\n",
    "    \n",
    "    args:\n",
    "        - out (torch.Tensor): tensor of logits of size batch_size x seq_len x vocab_size\n",
    "        - gen_idx (int): location for which to generate for\n",
    "        - top_k (int): if >0, only sample from the top k most probable words\n",
    "        - sample (Bool): if True, sample from full distribution. Overridden by top_k \n",
    "    \"\"\"\n",
    "    logits = out[:, gen_idx]\n",
    "    if temperature is not None:\n",
    "        logits = logits / temperature\n",
    "    if top_k > 0:\n",
    "        kth_vals, kth_idx = logits.topk(top_k, dim=-1)\n",
    "        dist = torch.distributions.categorical.Categorical(logits=kth_vals)\n",
    "        idx = kth_idx.gather(dim=1, index=dist.sample().unsqueeze(-1)).squeeze(-1)\n",
    "    elif sample:\n",
    "        dist = torch.distributions.categorical.Categorical(logits=logits)\n",
    "        idx = dist.sample().squeeze(-1)\n",
    "    else:\n",
    "        idx = torch.argmax(logits, dim=-1)\n",
    "    return idx.tolist() if return_list else idx\n",
    "  \n",
    "  \n",
    "def get_init_text(seed_text, max_len, batch_size = 1, rand_init=False):\n",
    "    \"\"\" Get initial sentence by padding seed_text with either masks or random words to max_len \"\"\"\n",
    "    batch = [seed_text + [MASK] * max_len + [SEP] for _ in range(batch_size)]\n",
    "    #if rand_init:\n",
    "    #    for ii in range(max_len):\n",
    "    #        init_idx[seed_len+ii] = np.random.randint(0, len(tokenizer.vocab))\n",
    "    \n",
    "    return tokenize_batch(batch)\n",
    "\n",
    "def printer(sent, should_detokenize=True):\n",
    "    if should_detokenize:\n",
    "        sent = detokenize(sent)[1:-1]\n",
    "    print(\" \".join(sent))\n"
   ]
  },
  {
   "cell_type": "markdown",
   "metadata": {
    "colab_type": "text",
    "id": "0VzY3scBYc3H"
   },
   "source": [
    "This is the meat of the algorithm. The general idea is\n",
    "1. start from all masks\n",
    "2. repeatedly pick a location, mask the token at that location, and generate from the probability distribution given by BERT\n",
    "3. stop when converged or tired of waiting\n",
    "\n",
    "We consider three \"modes\" of generating:\n",
    "- generate a single token for a position chosen uniformly at random for a chosen number of time steps\n",
    "- generate in sequential order (L->R), one token at a time\n",
    "- generate for all positions at once for a chosen number of time steps\n",
    "\n",
    "The `generate` function wraps and batches these three generation modes. In practice, we find that the first leads to the most fluent samples."
   ]
  },
  {
   "cell_type": "code",
   "execution_count": 6,
   "metadata": {
    "colab": {},
    "colab_type": "code",
    "id": "8BR0JVmlTvEQ"
   },
   "outputs": [],
   "source": [
    "# Generation modes as functions\n",
    "import math\n",
    "import time\n",
    "\n",
    "def parallel_sequential_generation(seed_text, batch_size=10, max_len=15, top_k=0, temperature=None, max_iter=300, burnin=200,\n",
    "                                   cuda=False, print_every=10, verbose=True):\n",
    "    \"\"\" Generate for one random position at a timestep\n",
    "    \n",
    "    args:\n",
    "        - burnin: during burn-in period, sample from full distribution; afterwards take argmax\n",
    "    \"\"\"\n",
    "    seed_len = len(seed_text)\n",
    "    batch = get_init_text(seed_text, max_len, batch_size)\n",
    "    \n",
    "    for ii in range(max_iter):\n",
    "        kk = np.random.randint(0, max_len)\n",
    "        for jj in range(batch_size):\n",
    "            batch[jj][seed_len+kk] = mask_id\n",
    "        inp = torch.tensor(batch).cuda() if cuda else torch.tensor(batch)\n",
    "        out = model(inp)\n",
    "        topk = top_k if (ii >= burnin) else 0\n",
    "        idxs = generate_step(out, gen_idx=seed_len+kk, top_k=topk, temperature=temperature, sample=(ii < burnin))\n",
    "        for jj in range(batch_size):\n",
    "            batch[jj][seed_len+kk] = idxs[jj]\n",
    "            \n",
    "        if verbose and np.mod(ii+1, print_every) == 0:\n",
    "            for_print = tokenizer.convert_ids_to_tokens(batch[0])\n",
    "            for_print = for_print[:seed_len+kk+1] + ['(*)'] + for_print[seed_len+kk+1:]\n",
    "            print(\"iter\", ii+1, \" \".join(for_print))\n",
    "            \n",
    "    return untokenize_batch(batch)\n",
    "\n",
    "def parallel_generation(seed_text, batch_size=10, max_len=15, top_k=0, temperature=None, max_iter=300, sample=True, \n",
    "                        cuda=False, print_every=10, verbose=True):\n",
    "    \"\"\" Generate for all positions at each time step \"\"\"\n",
    "    seed_len = len(seed_text)\n",
    "    batch = get_init_text(seed_text, max_len, batch_size)\n",
    "    \n",
    "    for ii in range(max_iter):\n",
    "        inp = torch.tensor(batch).cuda() if cuda else torch.tensor(batch)\n",
    "        out = model(inp)\n",
    "        for kk in range(max_len):\n",
    "            idxs = generate_step(out, gen_idx=seed_len+kk, top_k=top_k, temperature=temperature, sample=sample)\n",
    "            for jj in range(batch_size):\n",
    "                batch[jj][seed_len+kk] = idxs[jj]\n",
    "            \n",
    "        if verbose and np.mod(ii, print_every) == 0:\n",
    "            print(\"iter\", ii+1, \" \".join(tokenizer.convert_ids_to_tokens(batch[0])))\n",
    "    \n",
    "    return untokenize_batch(batch)\n",
    "            \n",
    "def sequential_generation(seed_text, batch_size=10, max_len=15, leed_out_len=15, \n",
    "                          top_k=0, temperature=None, sample=True, cuda=False):\n",
    "    \"\"\" Generate one word at a time, in L->R order \"\"\"\n",
    "    seed_len = len(seed_text)\n",
    "    batch = get_init_text(seed_text, max_len, batch_size)\n",
    "    \n",
    "    for ii in range(max_len):\n",
    "#         print(ii)\n",
    "        inp = [sent[:seed_len+ii+leed_out_len]+[sep_id] for sent in batch]\n",
    "#         print(inp)\n",
    "        inp = torch.tensor(batch).cuda() if cuda else torch.tensor(batch)\n",
    "#         print(inp)\n",
    "        out = model(inp)\n",
    "#         print(out)\n",
    "        idxs = generate_step(out, gen_idx=seed_len+ii, top_k=top_k, temperature=temperature, sample=sample)\n",
    "#         print(idxs)\n",
    "        for jj in range(batch_size):\n",
    "            batch[jj][seed_len+ii] = idxs[jj]\n",
    "        \n",
    "    return untokenize_batch(batch)\n",
    "\n",
    "\n",
    "def generate(n_samples, seed_text=\"[CLS]\", batch_size=10, max_len=25, \n",
    "             generation_mode=\"parallel-sequential\",\n",
    "             sample=True, top_k=100, temperature=1.0, burnin=200, max_iter=500,\n",
    "             cuda=False, print_every=1):\n",
    "    # main generation function to call\n",
    "    sentences = []\n",
    "    n_batches = math.ceil(n_samples / batch_size)\n",
    "    start_time = time.time()\n",
    "    for batch_n in range(n_batches):\n",
    "        if generation_mode == \"parallel-sequential\":\n",
    "            batch = parallel_sequential_generation(seed_text, batch_size=batch_size, max_len=max_len, top_k=top_k,\n",
    "                                                   temperature=temperature, burnin=burnin, max_iter=max_iter, \n",
    "                                                   cuda=cuda, verbose=False)\n",
    "        elif generation_mode == \"sequential\":\n",
    "            batch = sequential_generation(seed_text, batch_size=batch_size, max_len=max_len, top_k=top_k, \n",
    "                                          temperature=temperature, leed_out_len=leed_out_len, sample=sample,\n",
    "                                          cuda=cuda)\n",
    "        elif generation_mode == \"parallel\":\n",
    "            batch = parallel_generation(seed_text, batch_size=batch_size,\n",
    "                                        max_len=max_len, top_k=top_k, temperature=temperature, \n",
    "                                        sample=sample, max_iter=max_iter, \n",
    "                                        cuda=cuda, verbose=False)\n",
    "        \n",
    "        if (batch_n + 1) % print_every == 0:\n",
    "            print(\"Finished batch %d in %.3fs\" % (batch_n + 1, time.time() - start_time))\n",
    "            start_time = time.time()\n",
    "        \n",
    "        sentences += batch\n",
    "    return sentences"
   ]
  },
  {
   "cell_type": "markdown",
   "metadata": {
    "colab_type": "text",
    "id": "AKLZ5U71XGv1"
   },
   "source": [
    "Let's call the actual generation function! We'll use the following settings\n",
    "- max_len (40): length of sequence to generate\n",
    "- top_k (100): at each step, sample from the top_k most likely words\n",
    "- temperature (1.0): smoothing parameter for the next word distribution. Higher means more like uniform; lower means more peaky\n",
    "- burnin (250): for non-sequential generation, for the first burnin steps, sample from the entire next word distribution, instead of top_k\n",
    "- max_iter (500): number of iterations to run for\n",
    "- seed_text ([\"CLS\"]): prefix to generate for. We found it crucial to start with the CLS token; you can try adding to it "
   ]
  },
  {
   "cell_type": "code",
   "execution_count": 20,
   "metadata": {
    "colab": {
     "base_uri": "https://localhost:8080/",
     "height": 36
    },
    "colab_type": "code",
    "id": "-0So4YGiT5V_",
    "outputId": "2ad8a266-640a-483b-e39c-64c6f4760715"
   },
   "outputs": [
    {
     "name": "stdout",
     "output_type": "stream",
     "text": [
      "Finished batch 1 in 1.229s\n"
     ]
    }
   ],
   "source": [
    "n_samples = 10\n",
    "batch_size = 10\n",
    "max_len = 20\n",
    "top_k = 75\n",
    "temperature = 1.25\n",
    "generation_mode = \"sequential\"\n",
    "leed_out_len = 5 # max_len\n",
    "burnin = 500\n",
    "sample = False\n",
    "max_iter = 1000\n",
    "\n",
    "# Choose the prefix context\n",
    "seed_text = \"[CLS] my friends\".split(' ')\n",
    "bert_sents = generate(n_samples, seed_text=seed_text, batch_size=batch_size, max_len=max_len,\n",
    "                      generation_mode=generation_mode,\n",
    "                      sample=sample, top_k=top_k, temperature=temperature, burnin=burnin, max_iter=max_iter,\n",
    "                      cuda=cuda)"
   ]
  },
  {
   "cell_type": "code",
   "execution_count": 21,
   "metadata": {
    "scrolled": true
   },
   "outputs": [
    {
     "data": {
      "text/plain": [
       "['[CLS]', 'my', 'friends']"
      ]
     },
     "execution_count": 21,
     "metadata": {},
     "output_type": "execute_result"
    }
   ],
   "source": [
    "seed_text"
   ]
  },
  {
   "cell_type": "code",
   "execution_count": 22,
   "metadata": {},
   "outputs": [
    {
     "name": "stdout",
     "output_type": "stream",
     "text": [
      "my friends ran on to that crowd then got ' em out with me after that boy , i just met girl\n",
      "my friends had no , yeah on the way in the morning , yeah , you go to your fucking room ,\n",
      "my friends at blue road and down the road then gone , gone , gone , gone , gone , gone ,\n",
      "my friends ' i get better , as my stars are out with you ' love my best , hard work ,\n",
      "my friends in the town were a good shot through these spirits , and a full bottle of a man around ?\n",
      "my friends ' gone down , so oh - so dear as you were ' love me , that i know but\n",
      "my friends feel and remember ' re in love , i say , to my friends that you have me back now\n",
      "my friends of you sees me ill , and the man , the bad fellow he ever had he was .\n",
      "my friends all won a hard time , oh oh oh uh and my hair do so wonder where going that .\n",
      "my friends ' asse at the bottom of a dirty hat there come you run all me roads to glory ride\n"
     ]
    }
   ],
   "source": [
    "# Create examples:\n",
    "\n",
    "for sent in bert_sents:\n",
    "    printer(sent, should_detokenize=True)"
   ]
  },
  {
   "cell_type": "code",
   "execution_count": null,
   "metadata": {},
   "outputs": [],
   "source": []
  }
 ],
 "metadata": {
  "accelerator": "GPU",
  "colab": {
   "collapsed_sections": [],
   "name": "bert-babble.ipynb",
   "provenance": []
  },
  "kernelspec": {
   "display_name": "Python 3",
   "language": "python",
   "name": "python3"
  },
  "language_info": {
   "codemirror_mode": {
    "name": "ipython",
    "version": 3
   },
   "file_extension": ".py",
   "mimetype": "text/x-python",
   "name": "python",
   "nbconvert_exporter": "python",
   "pygments_lexer": "ipython3",
   "version": "3.7.4"
  }
 },
 "nbformat": 4,
 "nbformat_minor": 1
}
